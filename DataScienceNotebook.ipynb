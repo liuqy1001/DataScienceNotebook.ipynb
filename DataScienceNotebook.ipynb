{
 "cells": [
  {
   "cell_type": "markdown",
   "id": "0acb8ff2-a219-49a1-9ba9-fdea3de329d6",
   "metadata": {},
   "source": [
    "# Data Science Notebook"
   ]
  },
  {
   "cell_type": "markdown",
   "id": "2ff78f12-1be2-44c6-906d-a3bb71fc4a51",
   "metadata": {},
   "source": [
    "## Introduction\n",
    "This notebook demonstrates fundamental Python operations and Markdown formatting for data science tasks. It covers basic arithmetic, unit conversions, and provides references for data science languages and tools."
   ]
  },
  {
   "cell_type": "markdown",
   "id": "798b4725-e728-41ca-992d-81e3d29f39ef",
   "metadata": {},
   "source": [
    "## Data Science Languages\n",
    "- Python\n",
    "- R\n",
    "- SQL\n",
    "- Julia\n",
    "- Scala"
   ]
  },
  {
   "cell_type": "markdown",
   "id": "46497cb1-a329-4147-8a38-9ae3f37707c2",
   "metadata": {},
   "source": [
    "## Data Science Libraries\n",
    "- Pandas\n",
    "- NumPy\n",
    "- Scikit-learn\n",
    "- TensorFlow\n",
    "- PyTorch\n",
    "- Matplotlib\n",
    "- Seaborn"
   ]
  },
  {
   "cell_type": "markdown",
   "id": "96332073-cb11-4abf-bd1d-aae913dd2526",
   "metadata": {},
   "source": [
    "## Data Science Tools\n",
    "| Tool          | Category         | Popularity |\n",
    "|---------------|------------------|------------|\n",
    "| Jupyter       | Notebook         | High       |\n",
    "| VS Code       | IDE              | High       |\n",
    "| Tableau       | Visualization    | High       |\n",
    "| Apache Spark  | Big Data         | Medium     |\n",
    "| Hadoop        | Distributed Computing | Medium |"
   ]
  },
  {
   "cell_type": "markdown",
   "id": "4e4a2574-8a2c-4413-8a39-6c8e3896ab67",
   "metadata": {},
   "source": [
    "## Arithmetic Expressions Examples\n",
    "Basic arithmetic operations in Python include:\n",
    "- Addition (`+`)\n",
    "- Subtraction (`-`)\n",
    "- Multiplication (`*`)\n",
    "- Division (`/`)\n",
    "- Exponentiation (`**`)\n",
    "- Modulo (`%`)"
   ]
  },
  {
   "cell_type": "code",
   "execution_count": null,
   "id": "696d77c2-f510-4139-a75b-b20af684bb89",
   "metadata": {},
   "outputs": [],
   "source": [
    "# Multiply and add numbers\n",
    "result = (2 * 3) + 4\n",
    "print(\"(2 * 3) + 4 =\", result)"
   ]
  },
  {
   "cell_type": "code",
   "execution_count": null,
   "id": "cc95a301-670e-40af-8c5b-a2b272bde070",
   "metadata": {},
   "outputs": [],
   "source": [
    "# Convert minutes to hours\n",
    "minutes = 150\n",
    "hours = minutes / 60\n",
    "print(f\"{minutes} minutes = {hours:.2f} hours\")"
   ]
  },
  {
   "cell_type": "markdown",
   "id": "a38845ab-c588-4c34-86f4-16f7cf024e93",
   "metadata": {},
   "source": [
    "## Objectives\n",
    "1. Demonstrate Markdown formatting\n",
    "2. Show basic Python operations\n",
    "3. List essential data science resources\n",
    "4. Practice notebook organization\n",
    "5. Share work via GitHub"
   ]
  },
  {
   "cell_type": "markdown",
   "id": "0f92a082-4406-4dae-9c9f-18485c860c0f",
   "metadata": {},
   "source": [
    "## Author\n",
    "Qingyuan Liu"
   ]
  }
 ],
 "metadata": {
  "kernelspec": {
   "display_name": "Python 3 (ipykernel)",
   "language": "python",
   "name": "python3"
  },
  "language_info": {
   "codemirror_mode": {
    "name": "ipython",
    "version": 3
   },
   "file_extension": ".py",
   "mimetype": "text/x-python",
   "name": "python",
   "nbconvert_exporter": "python",
   "pygments_lexer": "ipython3",
   "version": "3.13.5"
  }
 },
 "nbformat": 4,
 "nbformat_minor": 5
}
